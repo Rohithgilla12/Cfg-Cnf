{
 "cells": [
  {
   "cell_type": "code",
   "execution_count": 36,
   "metadata": {},
   "outputs": [],
   "source": [
    "from itertools import product"
   ]
  },
  {
   "cell_type": "code",
   "execution_count": 37,
   "metadata": {},
   "outputs": [],
   "source": [
    "def filler(word, from_char, to_char):\n",
    "    options = [(c,) if c != from_char else (from_char, to_char) for c in word]\n",
    "    return (''.join(o) for o in product(*options))"
   ]
  },
  {
   "cell_type": "code",
   "execution_count": 38,
   "metadata": {},
   "outputs": [],
   "source": [
    "productions=[]\n",
    "with open('cfg.txt') as cfg:\n",
    "    for rule in cfg:\n",
    "        check=0\n",
    "        lhs=rule.split(':')[0]\n",
    "        rhs=rule.split(':')[1]\n",
    "        for i in range(len(productions)):\n",
    "            if lhs==productions[i][0] :\n",
    "                productions[i].append(rhs.replace('\\n',''))\n",
    "                check=1\n",
    "        if check==1:\n",
    "            pass\n",
    "        else:\n",
    "            productions.append([rule.split(':')[0],rule.split(':')[1].replace('\\n','')])"
   ]
  },
  {
   "cell_type": "code",
   "execution_count": 39,
   "metadata": {},
   "outputs": [
    {
     "data": {
      "text/plain": [
       "[['S', 'ASA', 'aB'], ['A', 'B', 'S'], ['B', 'b', 'e']]"
      ]
     },
     "execution_count": 39,
     "metadata": {},
     "output_type": "execute_result"
    }
   ],
   "source": [
    "productions"
   ]
  },
  {
   "cell_type": "code",
   "execution_count": 40,
   "metadata": {},
   "outputs": [],
   "source": [
    "if any(\"S\" in s for s in productions):\n",
    "    productions.append([\"S'\",\"S\"])"
   ]
  },
  {
   "cell_type": "code",
   "execution_count": 41,
   "metadata": {},
   "outputs": [
    {
     "data": {
      "text/plain": [
       "[['S', 'ASA', 'aB'], ['A', 'B', 'S'], ['B', 'b', 'e'], [\"S'\", 'S']]"
      ]
     },
     "execution_count": 41,
     "metadata": {},
     "output_type": "execute_result"
    }
   ],
   "source": [
    "productions"
   ]
  },
  {
   "cell_type": "code",
   "execution_count": 42,
   "metadata": {},
   "outputs": [],
   "source": [
    "null_productions=[]\n",
    "for rule in productions:\n",
    "    if 'e' in ''.join(rule[1:]):\n",
    "        null_productions.append(rule[0])"
   ]
  },
  {
   "cell_type": "code",
   "execution_count": 43,
   "metadata": {},
   "outputs": [],
   "source": [
    "null_productions\n",
    "new_productions=[]"
   ]
  },
  {
   "cell_type": "code",
   "execution_count": 44,
   "metadata": {},
   "outputs": [],
   "source": [
    "productions_bckup=productions[:]"
   ]
  },
  {
   "cell_type": "code",
   "execution_count": 45,
   "metadata": {},
   "outputs": [
    {
     "name": "stdout",
     "output_type": "stream",
     "text": [
      "aB\n",
      "B\n",
      "ASA\n"
     ]
    }
   ],
   "source": [
    "while(len(null_productions)>=1):\n",
    "    target=null_productions[0]\n",
    "    for rule in productions:\n",
    "        for variable in rule:\n",
    "            if target in variable and rule.index(variable)!=0:\n",
    "                print(variable)\n",
    "                temp=rule[:]\n",
    "                temp2=list(filler(variable,target,''))\n",
    "                temp2.pop(0)\n",
    "                temp.extend(temp2)\n",
    "                new_productions.append(temp)\n",
    "                if(len(variable)==1):\n",
    "                    null_productions.append(rule[0])\n",
    "    null_productions.pop(0)"
   ]
  },
  {
   "cell_type": "code",
   "execution_count": 46,
   "metadata": {},
   "outputs": [
    {
     "data": {
      "text/plain": [
       "[['S', 'ASA', 'aB'], ['A', 'B', 'S'], ['B', 'b', 'e'], [\"S'\", 'S']]"
      ]
     },
     "execution_count": 46,
     "metadata": {},
     "output_type": "execute_result"
    }
   ],
   "source": [
    "productions"
   ]
  },
  {
   "cell_type": "code",
   "execution_count": 47,
   "metadata": {},
   "outputs": [
    {
     "data": {
      "text/plain": [
       "[['S', 'ASA', 'aB', 'a'],\n",
       " ['A', 'B', 'S', ''],\n",
       " ['S', 'ASA', 'aB', 'AS', 'SA', 'S']]"
      ]
     },
     "execution_count": 47,
     "metadata": {},
     "output_type": "execute_result"
    }
   ],
   "source": [
    "new_productions"
   ]
  },
  {
   "cell_type": "code",
   "execution_count": 48,
   "metadata": {},
   "outputs": [
    {
     "name": "stdout",
     "output_type": "stream",
     "text": [
      "[['S', 'ASA', 'aB', 'a'], ['A', 'B', 'S', ''], ['S', 'aB', 'ASA', 'AS', 'a', 'SA', 'S']]\n"
     ]
    }
   ],
   "source": [
    "for rule in new_productions:\n",
    "    target=rule[0]\n",
    "    main_index=new_productions.index(rule)\n",
    "    #print(\"mainindex\",main_index)\n",
    "    for j in range(len(new_productions)):\n",
    "        if(new_productions[j][0]==target and j!=main_index and j>main_index):\n",
    "            temp=list(set(new_productions[j]).union(set(new_productions[main_index])))\n",
    "            temp.insert(0,target)\n",
    "            new_productions[j]=temp\n",
    "            print(new_productions)\n",
    "            new_productions.pop(main_index)\n",
    "            "
   ]
  },
  {
   "cell_type": "code",
   "execution_count": 49,
   "metadata": {},
   "outputs": [
    {
     "data": {
      "text/plain": [
       "2"
      ]
     },
     "execution_count": 49,
     "metadata": {},
     "output_type": "execute_result"
    }
   ],
   "source": [
    "len(new_productions)"
   ]
  },
  {
   "cell_type": "code",
   "execution_count": 50,
   "metadata": {},
   "outputs": [
    {
     "data": {
      "text/plain": [
       "[['A', 'B', 'S', ''], ['S', 'aB', 'ASA', 'AS', 'a', 'SA', 'S']]"
      ]
     },
     "execution_count": 50,
     "metadata": {},
     "output_type": "execute_result"
    }
   ],
   "source": [
    "new_productions"
   ]
  },
  {
   "cell_type": "code",
   "execution_count": 51,
   "metadata": {},
   "outputs": [],
   "source": [
    "for rule in new_productions:\n",
    "    target=rule[0]\n",
    "    for i in range(len(productions)):\n",
    "        if target==productions[i][0]:\n",
    "            productions[i]=rule"
   ]
  },
  {
   "cell_type": "code",
   "execution_count": 52,
   "metadata": {},
   "outputs": [
    {
     "data": {
      "text/plain": [
       "[['S', 'aB', 'ASA', 'AS', 'a', 'SA', 'S'],\n",
       " ['A', 'B', 'S', ''],\n",
       " ['B', 'b', 'e'],\n",
       " [\"S'\", 'S']]"
      ]
     },
     "execution_count": 52,
     "metadata": {},
     "output_type": "execute_result"
    }
   ],
   "source": [
    "productions"
   ]
  },
  {
   "cell_type": "code",
   "execution_count": 53,
   "metadata": {},
   "outputs": [],
   "source": [
    "for rule in productions:\n",
    "    for j in range(1,len(rule)):\n",
    "        if(rule[j]=='e' or rule[j]=='' or rule[0]==rule[j]):\n",
    "            rule.pop(j)"
   ]
  },
  {
   "cell_type": "code",
   "execution_count": 54,
   "metadata": {},
   "outputs": [
    {
     "data": {
      "text/plain": [
       "[['S', 'aB', 'ASA', 'AS', 'a', 'SA'], ['A', 'B', 'S'], ['B', 'b'], [\"S'\", 'S']]"
      ]
     },
     "execution_count": 54,
     "metadata": {},
     "output_type": "execute_result"
    }
   ],
   "source": [
    "productions"
   ]
  },
  {
   "cell_type": "code",
   "execution_count": 55,
   "metadata": {},
   "outputs": [],
   "source": [
    "unit_productions=[]"
   ]
  },
  {
   "cell_type": "code",
   "execution_count": 56,
   "metadata": {},
   "outputs": [],
   "source": [
    "for rule in productions:\n",
    "    for j in range(1,len(rule)):\n",
    "        if(len(rule[j])==1 and rule[j].isupper()):\n",
    "            unit_productions.append([rule[0],rule[j]])"
   ]
  },
  {
   "cell_type": "code",
   "execution_count": 57,
   "metadata": {},
   "outputs": [
    {
     "data": {
      "text/plain": [
       "[['A', 'B'], ['A', 'S'], [\"S'\", 'S']]"
      ]
     },
     "execution_count": 57,
     "metadata": {},
     "output_type": "execute_result"
    }
   ],
   "source": [
    "unit_productions"
   ]
  },
  {
   "cell_type": "code",
   "execution_count": 58,
   "metadata": {},
   "outputs": [
    {
     "data": {
      "text/plain": [
       "[['S', 'aB', 'ASA', 'AS', 'a', 'SA'], ['A', 'B', 'S'], ['B', 'b'], [\"S'\", 'S']]"
      ]
     },
     "execution_count": 58,
     "metadata": {},
     "output_type": "execute_result"
    }
   ],
   "source": [
    "productions"
   ]
  },
  {
   "cell_type": "code",
   "execution_count": 26,
   "metadata": {},
   "outputs": [],
   "source": [
    "new_productions=[]\n",
    "for rule in unit_productions:\n",
    "    target=rule[-1]\n",
    "    for i in range(len(productions)):\n",
    "        if target==productions[i][0]:\n",
    "            rule.pop(rule.index(target))\n",
    "            rule.extend(productions[i][1:])"
   ]
  },
  {
   "cell_type": "code",
   "execution_count": 61,
   "metadata": {},
   "outputs": [
    {
     "data": {
      "text/plain": [
       "[['A', 'B'], ['A', 'S'], [\"S'\", 'S']]"
      ]
     },
     "execution_count": 61,
     "metadata": {},
     "output_type": "execute_result"
    }
   ],
   "source": [
    "unit_productions"
   ]
  },
  {
   "cell_type": "code",
   "execution_count": 75,
   "metadata": {},
   "outputs": [
    {
     "name": "stdout",
     "output_type": "stream",
     "text": [
      "S' ['aB', 'ASA', 'AS', 'a', 'SA']\n"
     ]
    },
    {
     "ename": "IndexError",
     "evalue": "list index out of range",
     "output_type": "error",
     "traceback": [
      "\u001b[0;31m---------------------------------------------------------------------------\u001b[0m",
      "\u001b[0;31mIndexError\u001b[0m                                Traceback (most recent call last)",
      "\u001b[0;32m<ipython-input-75-7266d10d3006>\u001b[0m in \u001b[0;36m<module>\u001b[0;34m()\u001b[0m\n\u001b[1;32m      6\u001b[0m             \u001b[0;32mfor\u001b[0m \u001b[0mj\u001b[0m \u001b[0;32min\u001b[0m \u001b[0mproductions\u001b[0m\u001b[0;34m:\u001b[0m\u001b[0;34m\u001b[0m\u001b[0m\n\u001b[1;32m      7\u001b[0m                 \u001b[0;32mfor\u001b[0m \u001b[0mk\u001b[0m \u001b[0;32min\u001b[0m \u001b[0mrange\u001b[0m\u001b[0;34m(\u001b[0m\u001b[0mlen\u001b[0m\u001b[0;34m(\u001b[0m\u001b[0mproductions\u001b[0m\u001b[0;34m)\u001b[0m\u001b[0;34m)\u001b[0m\u001b[0;34m:\u001b[0m\u001b[0;34m\u001b[0m\u001b[0m\n\u001b[0;32m----> 8\u001b[0;31m                     \u001b[0;32mif\u001b[0m \u001b[0mj\u001b[0m\u001b[0;34m[\u001b[0m\u001b[0mk\u001b[0m\u001b[0;34m]\u001b[0m\u001b[0;34m==\u001b[0m\u001b[0mrule\u001b[0m\u001b[0;34m[\u001b[0m\u001b[0;36m0\u001b[0m\u001b[0;34m]\u001b[0m\u001b[0;34m:\u001b[0m\u001b[0;34m\u001b[0m\u001b[0m\n\u001b[0m\u001b[1;32m      9\u001b[0m                         \u001b[0mj\u001b[0m\u001b[0;34m.\u001b[0m\u001b[0mpop\u001b[0m\u001b[0;34m(\u001b[0m\u001b[0mj\u001b[0m\u001b[0;34m.\u001b[0m\u001b[0mindex\u001b[0m\u001b[0;34m(\u001b[0m\u001b[0mtarget\u001b[0m\u001b[0;34m)\u001b[0m\u001b[0;34m)\u001b[0m\u001b[0;34m\u001b[0m\u001b[0m\n\u001b[1;32m     10\u001b[0m                         \u001b[0mj\u001b[0m\u001b[0;34m.\u001b[0m\u001b[0mextend\u001b[0m\u001b[0;34m(\u001b[0m\u001b[0mproductions\u001b[0m\u001b[0;34m[\u001b[0m\u001b[0mi\u001b[0m\u001b[0;34m]\u001b[0m\u001b[0;34m[\u001b[0m\u001b[0;36m1\u001b[0m\u001b[0;34m:\u001b[0m\u001b[0;34m]\u001b[0m\u001b[0;34m)\u001b[0m\u001b[0;34m\u001b[0m\u001b[0m\n",
      "\u001b[0;31mIndexError\u001b[0m: list index out of range"
     ]
    }
   ],
   "source": [
    "for rule in unit_productions:\n",
    "    target=rule[-1]\n",
    "    for i in range(len(productions)):\n",
    "        if target==productions[i][0]:\n",
    "            print(rule[0],productions[i][1:])\n",
    "            for j in productions:\n",
    "                for k in range(len(productions)):\n",
    "                    if j[k]==rule[0]:\n",
    "                        j.pop(j.index(target))\n",
    "                        j.extend(productions[i][1:])"
   ]
  },
  {
   "cell_type": "code",
   "execution_count": 70,
   "metadata": {},
   "outputs": [
    {
     "data": {
      "text/plain": [
       "[['S', 'aB', 'ASA', 'AS', 'a', 'SA'], ['A', 'B', 'S'], ['B', 'b'], [\"S'\", 'S']]"
      ]
     },
     "execution_count": 70,
     "metadata": {},
     "output_type": "execute_result"
    }
   ],
   "source": [
    "productions"
   ]
  },
  {
   "cell_type": "code",
   "execution_count": null,
   "metadata": {},
   "outputs": [],
   "source": []
  }
 ],
 "metadata": {
  "kernelspec": {
   "display_name": "Python 3",
   "language": "python",
   "name": "python3"
  },
  "language_info": {
   "codemirror_mode": {
    "name": "ipython",
    "version": 3
   },
   "file_extension": ".py",
   "mimetype": "text/x-python",
   "name": "python",
   "nbconvert_exporter": "python",
   "pygments_lexer": "ipython3",
   "version": "3.6.4"
  }
 },
 "nbformat": 4,
 "nbformat_minor": 2
}
