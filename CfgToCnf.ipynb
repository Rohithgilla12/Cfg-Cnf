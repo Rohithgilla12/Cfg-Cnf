{
 "cells": [
  {
   "cell_type": "code",
   "execution_count": 103,
   "metadata": {},
   "outputs": [],
   "source": [
    "from itertools import product"
   ]
  },
  {
   "cell_type": "code",
   "execution_count": 104,
   "metadata": {},
   "outputs": [],
   "source": [
    "def filler(word, from_char, to_char):\n",
    "    options = [(c,) if c != from_char else (from_char, to_char) for c in word]\n",
    "    return (''.join(o) for o in product(*options))"
   ]
  },
  {
   "cell_type": "code",
   "execution_count": 105,
   "metadata": {},
   "outputs": [],
   "source": [
    "productions=[]\n",
    "with open('cfg.txt') as cfg:\n",
    "    for rule in cfg:\n",
    "        check=0\n",
    "        lhs=rule.split(':')[0]\n",
    "        rhs=rule.split(':')[1]\n",
    "        for i in range(len(productions)):\n",
    "            if lhs==productions[i][0] :\n",
    "                productions[i].append(rhs.replace('\\n',''))\n",
    "                check=1\n",
    "        if check==1:\n",
    "            pass\n",
    "        else:\n",
    "            productions.append([rule.split(':')[0],rule.split(':')[1].replace('\\n','')])"
   ]
  },
  {
   "cell_type": "code",
   "execution_count": 106,
   "metadata": {},
   "outputs": [
    {
     "data": {
      "text/plain": [
       "[['S', 'ASA', 'aB'], ['A', 'B', 'S'], ['B', 'b', 'e']]"
      ]
     },
     "execution_count": 106,
     "metadata": {},
     "output_type": "execute_result"
    }
   ],
   "source": [
    "productions"
   ]
  },
  {
   "cell_type": "code",
   "execution_count": 107,
   "metadata": {},
   "outputs": [],
   "source": [
    "if any(\"S\" in s for s in productions):\n",
    "    productions.append([\"S'\",\"S\"])"
   ]
  },
  {
   "cell_type": "code",
   "execution_count": 108,
   "metadata": {},
   "outputs": [
    {
     "data": {
      "text/plain": [
       "[['S', 'ASA', 'aB'], ['A', 'B', 'S'], ['B', 'b', 'e'], [\"S'\", 'S']]"
      ]
     },
     "execution_count": 108,
     "metadata": {},
     "output_type": "execute_result"
    }
   ],
   "source": [
    "productions"
   ]
  },
  {
   "cell_type": "code",
   "execution_count": 109,
   "metadata": {},
   "outputs": [],
   "source": [
    "null_productions=[]\n",
    "for rule in productions:\n",
    "    if 'e' in ''.join(rule[1:]):\n",
    "        null_productions.append(rule[0])"
   ]
  },
  {
   "cell_type": "code",
   "execution_count": 110,
   "metadata": {},
   "outputs": [],
   "source": [
    "null_productions\n",
    "new_productions=[]"
   ]
  },
  {
   "cell_type": "code",
   "execution_count": 111,
   "metadata": {},
   "outputs": [],
   "source": [
    "productions_bckup=productions[:]"
   ]
  },
  {
   "cell_type": "code",
   "execution_count": 112,
   "metadata": {},
   "outputs": [
    {
     "name": "stdout",
     "output_type": "stream",
     "text": [
      "aB\n",
      "B\n",
      "ASA\n"
     ]
    }
   ],
   "source": [
    "while(len(null_productions)>=1):\n",
    "    target=null_productions[0]\n",
    "    for rule in productions:\n",
    "        for variable in rule:\n",
    "            if target in variable and rule.index(variable)!=0:\n",
    "                print(variable)\n",
    "                temp=rule[:]\n",
    "                temp2=list(filler(variable,target,''))\n",
    "                temp2.pop(0)\n",
    "                temp.extend(temp2)\n",
    "                new_productions.append(temp)\n",
    "                if(len(variable)==1):\n",
    "                    null_productions.append(rule[0])\n",
    "    null_productions.pop(0)"
   ]
  },
  {
   "cell_type": "code",
   "execution_count": 113,
   "metadata": {},
   "outputs": [
    {
     "data": {
      "text/plain": [
       "[['S', 'ASA', 'aB'], ['A', 'B', 'S'], ['B', 'b', 'e'], [\"S'\", 'S']]"
      ]
     },
     "execution_count": 113,
     "metadata": {},
     "output_type": "execute_result"
    }
   ],
   "source": [
    "productions"
   ]
  },
  {
   "cell_type": "code",
   "execution_count": 114,
   "metadata": {},
   "outputs": [
    {
     "data": {
      "text/plain": [
       "[['S', 'ASA', 'aB', 'a'],\n",
       " ['A', 'B', 'S', ''],\n",
       " ['S', 'ASA', 'aB', 'AS', 'SA', 'S']]"
      ]
     },
     "execution_count": 114,
     "metadata": {},
     "output_type": "execute_result"
    }
   ],
   "source": [
    "new_productions"
   ]
  },
  {
   "cell_type": "code",
   "execution_count": 115,
   "metadata": {},
   "outputs": [
    {
     "name": "stdout",
     "output_type": "stream",
     "text": [
      "[['S', 'ASA', 'aB', 'a'], ['A', 'B', 'S', ''], ['S', 'aB', 'ASA', 'AS', 'a', 'SA', 'S']]\n"
     ]
    }
   ],
   "source": [
    "for rule in new_productions:\n",
    "    target=rule[0]\n",
    "    main_index=new_productions.index(rule)\n",
    "    #print(\"mainindex\",main_index)\n",
    "    for j in range(len(new_productions)):\n",
    "        if(new_productions[j][0]==target and j!=main_index and j>main_index):\n",
    "            temp=list(set(new_productions[j]).union(set(new_productions[main_index])))\n",
    "            temp.insert(0,target)\n",
    "            new_productions[j]=temp\n",
    "            print(new_productions)\n",
    "            new_productions.pop(main_index)\n",
    "            "
   ]
  },
  {
   "cell_type": "code",
   "execution_count": 116,
   "metadata": {},
   "outputs": [
    {
     "data": {
      "text/plain": [
       "2"
      ]
     },
     "execution_count": 116,
     "metadata": {},
     "output_type": "execute_result"
    }
   ],
   "source": [
    "len(new_productions)"
   ]
  },
  {
   "cell_type": "code",
   "execution_count": 117,
   "metadata": {},
   "outputs": [
    {
     "data": {
      "text/plain": [
       "[['A', 'B', 'S', ''], ['S', 'aB', 'ASA', 'AS', 'a', 'SA', 'S']]"
      ]
     },
     "execution_count": 117,
     "metadata": {},
     "output_type": "execute_result"
    }
   ],
   "source": [
    "new_productions"
   ]
  },
  {
   "cell_type": "code",
   "execution_count": 118,
   "metadata": {},
   "outputs": [],
   "source": [
    "for rule in new_productions:\n",
    "    target=rule[0]\n",
    "    for i in range(len(productions)):\n",
    "        if target==productions[i][0]:\n",
    "            productions[i]=rule"
   ]
  },
  {
   "cell_type": "code",
   "execution_count": 119,
   "metadata": {},
   "outputs": [
    {
     "data": {
      "text/plain": [
       "[['S', 'aB', 'ASA', 'AS', 'a', 'SA', 'S'],\n",
       " ['A', 'B', 'S', ''],\n",
       " ['B', 'b', 'e'],\n",
       " [\"S'\", 'S']]"
      ]
     },
     "execution_count": 119,
     "metadata": {},
     "output_type": "execute_result"
    }
   ],
   "source": [
    "productions"
   ]
  },
  {
   "cell_type": "code",
   "execution_count": 120,
   "metadata": {},
   "outputs": [],
   "source": [
    "for rule in productions:\n",
    "    for j in range(1,len(rule)):\n",
    "        if(rule[j]=='e' or rule[j]=='' or rule[0]==rule[j]):\n",
    "            rule.pop(j)"
   ]
  },
  {
   "cell_type": "code",
   "execution_count": 121,
   "metadata": {},
   "outputs": [
    {
     "data": {
      "text/plain": [
       "[['S', 'aB', 'ASA', 'AS', 'a', 'SA'], ['A', 'B', 'S'], ['B', 'b'], [\"S'\", 'S']]"
      ]
     },
     "execution_count": 121,
     "metadata": {},
     "output_type": "execute_result"
    }
   ],
   "source": [
    "productions"
   ]
  },
  {
   "cell_type": "code",
   "execution_count": 122,
   "metadata": {},
   "outputs": [],
   "source": [
    "unit_productions=[]"
   ]
  },
  {
   "cell_type": "code",
   "execution_count": 123,
   "metadata": {},
   "outputs": [],
   "source": [
    "for rule in productions:\n",
    "    for j in range(1,len(rule)):\n",
    "        if(len(rule[j])==1 and rule[j].isupper()):\n",
    "            unit_productions.append([rule[0],rule[j]])"
   ]
  },
  {
   "cell_type": "code",
   "execution_count": 124,
   "metadata": {},
   "outputs": [
    {
     "data": {
      "text/plain": [
       "[['A', 'B'], ['A', 'S'], [\"S'\", 'S']]"
      ]
     },
     "execution_count": 124,
     "metadata": {},
     "output_type": "execute_result"
    }
   ],
   "source": [
    "unit_productions"
   ]
  },
  {
   "cell_type": "code",
   "execution_count": 125,
   "metadata": {},
   "outputs": [
    {
     "data": {
      "text/plain": [
       "[['S', 'aB', 'ASA', 'AS', 'a', 'SA'], ['A', 'B', 'S'], ['B', 'b'], [\"S'\", 'S']]"
      ]
     },
     "execution_count": 125,
     "metadata": {},
     "output_type": "execute_result"
    }
   ],
   "source": [
    "productions"
   ]
  },
  {
   "cell_type": "code",
   "execution_count": null,
   "metadata": {},
   "outputs": [],
   "source": []
  },
  {
   "cell_type": "code",
   "execution_count": 126,
   "metadata": {},
   "outputs": [
    {
     "data": {
      "text/plain": [
       "[['A', 'B'], ['A', 'S'], [\"S'\", 'S']]"
      ]
     },
     "execution_count": 126,
     "metadata": {},
     "output_type": "execute_result"
    }
   ],
   "source": [
    "unit_productions"
   ]
  },
  {
   "cell_type": "code",
   "execution_count": 127,
   "metadata": {},
   "outputs": [
    {
     "name": "stdout",
     "output_type": "stream",
     "text": [
      "A ['b']\n",
      "A ['aB', 'ASA', 'AS', 'a', 'SA']\n",
      "S' ['aB', 'ASA', 'AS', 'a', 'SA']\n"
     ]
    }
   ],
   "source": [
    "for rule in unit_productions:\n",
    "    target=rule[-1]\n",
    "    for i in range(len(productions)):\n",
    "        if target==productions[i][0]:\n",
    "            print(rule[0],productions[i][1:])\n",
    "            for j in productions:\n",
    "                for k in range(len(j)):\n",
    "                    if j[k]==rule[0]:\n",
    "                        j.pop(j.index(target))\n",
    "                        j.extend(productions[i][1:])"
   ]
  },
  {
   "cell_type": "code",
   "execution_count": 128,
   "metadata": {},
   "outputs": [
    {
     "data": {
      "text/plain": [
       "[['S', 'aB', 'ASA', 'AS', 'a', 'SA'],\n",
       " ['A', 'b', 'aB', 'ASA', 'AS', 'a', 'SA'],\n",
       " ['B', 'b'],\n",
       " [\"S'\", 'aB', 'ASA', 'AS', 'a', 'SA']]"
      ]
     },
     "execution_count": 128,
     "metadata": {},
     "output_type": "execute_result"
    }
   ],
   "source": [
    "productions"
   ]
  },
  {
   "cell_type": "code",
   "execution_count": null,
   "metadata": {},
   "outputs": [],
   "source": []
  }
 ],
 "metadata": {
  "kernelspec": {
   "display_name": "Python 3",
   "language": "python",
   "name": "python3"
  },
  "language_info": {
   "codemirror_mode": {
    "name": "ipython",
    "version": 3
   },
   "file_extension": ".py",
   "mimetype": "text/x-python",
   "name": "python",
   "nbconvert_exporter": "python",
   "pygments_lexer": "ipython3",
   "version": "3.6.4"
  }
 },
 "nbformat": 4,
 "nbformat_minor": 2
}
