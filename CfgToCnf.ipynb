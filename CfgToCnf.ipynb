{
 "cells": [
  {
   "cell_type": "code",
   "execution_count": 63,
   "metadata": {},
   "outputs": [],
   "source": [
    "from itertools import product"
   ]
  },
  {
   "cell_type": "code",
   "execution_count": 64,
   "metadata": {},
   "outputs": [],
   "source": [
    "def filler(word, from_char, to_char):\n",
    "    options = [(c,) if c != from_char else (from_char, to_char) for c in word]\n",
    "    return (''.join(o) for o in product(*options))"
   ]
  },
  {
   "cell_type": "code",
   "execution_count": 65,
   "metadata": {},
   "outputs": [],
   "source": [
    "productions=[]\n",
    "with open('cfg.txt') as cfg:\n",
    "    for rule in cfg:\n",
    "        check=0\n",
    "        lhs=rule.split(':')[0]\n",
    "        rhs=rule.split(':')[1]\n",
    "        for i in range(len(productions)):\n",
    "            if lhs==productions[i][0] :\n",
    "                productions[i].append(rhs.replace('\\n',''))\n",
    "                check=1\n",
    "        if check==1:\n",
    "            pass\n",
    "        else:\n",
    "            productions.append([rule.split(':')[0],rule.split(':')[1].replace('\\n','')])"
   ]
  },
  {
   "cell_type": "code",
   "execution_count": 66,
   "metadata": {},
   "outputs": [
    {
     "data": {
      "text/plain": [
       "[['S', 'ASA', 'aB'], ['A', 'B', 'S'], ['B', 'b', 'e']]"
      ]
     },
     "execution_count": 66,
     "metadata": {},
     "output_type": "execute_result"
    }
   ],
   "source": [
    "productions"
   ]
  },
  {
   "cell_type": "code",
   "execution_count": 67,
   "metadata": {},
   "outputs": [],
   "source": [
    "if any(\"S\" in s for s in productions):\n",
    "    productions.append([\"S'\",\"S\"])"
   ]
  },
  {
   "cell_type": "code",
   "execution_count": 68,
   "metadata": {},
   "outputs": [
    {
     "data": {
      "text/plain": [
       "[['S', 'ASA', 'aB'], ['A', 'B', 'S'], ['B', 'b', 'e'], [\"S'\", 'S']]"
      ]
     },
     "execution_count": 68,
     "metadata": {},
     "output_type": "execute_result"
    }
   ],
   "source": [
    "productions"
   ]
  },
  {
   "cell_type": "code",
   "execution_count": 69,
   "metadata": {},
   "outputs": [],
   "source": [
    "null_productions=[]\n",
    "for rule in productions:\n",
    "    if 'e' in ''.join(rule[1:]):\n",
    "        null_productions.append(rule[0])"
   ]
  },
  {
   "cell_type": "code",
   "execution_count": 70,
   "metadata": {},
   "outputs": [],
   "source": [
    "null_productions\n",
    "new_productions=[]"
   ]
  },
  {
   "cell_type": "code",
   "execution_count": 71,
   "metadata": {},
   "outputs": [],
   "source": [
    "productions_bckup=productions[:]"
   ]
  },
  {
   "cell_type": "code",
   "execution_count": 72,
   "metadata": {},
   "outputs": [
    {
     "name": "stdout",
     "output_type": "stream",
     "text": [
      "aB\n",
      "B\n",
      "ASA\n"
     ]
    }
   ],
   "source": [
    "while(len(null_productions)>=1):\n",
    "    target=null_productions[0]\n",
    "    for rule in productions:\n",
    "        for variable in rule:\n",
    "            if target in variable and rule.index(variable)!=0:\n",
    "                print(variable)\n",
    "                temp=rule[:]\n",
    "                temp2=list(filler(variable,target,''))\n",
    "                temp2.pop(0)\n",
    "                temp.extend(temp2)\n",
    "                new_productions.append(temp)\n",
    "                if(len(variable)==1):\n",
    "                    null_productions.append(rule[0])\n",
    "    null_productions.pop(0)"
   ]
  },
  {
   "cell_type": "code",
   "execution_count": 73,
   "metadata": {},
   "outputs": [
    {
     "data": {
      "text/plain": [
       "[['S', 'ASA', 'aB'], ['A', 'B', 'S'], ['B', 'b', 'e'], [\"S'\", 'S']]"
      ]
     },
     "execution_count": 73,
     "metadata": {},
     "output_type": "execute_result"
    }
   ],
   "source": [
    "productions"
   ]
  },
  {
   "cell_type": "code",
   "execution_count": 74,
   "metadata": {},
   "outputs": [
    {
     "data": {
      "text/plain": [
       "[['S', 'ASA', 'aB', 'a'],\n",
       " ['A', 'B', 'S', ''],\n",
       " ['S', 'ASA', 'aB', 'AS', 'SA', 'S']]"
      ]
     },
     "execution_count": 74,
     "metadata": {},
     "output_type": "execute_result"
    }
   ],
   "source": [
    "new_productions"
   ]
  },
  {
   "cell_type": "code",
   "execution_count": 75,
   "metadata": {},
   "outputs": [
    {
     "name": "stdout",
     "output_type": "stream",
     "text": [
      "[['S', 'ASA', 'aB', 'a'], ['A', 'B', 'S', ''], ['S', 'S', 'ASA', 'aB', 'SA', 'a', 'AS']]\n"
     ]
    }
   ],
   "source": [
    "for rule in new_productions:\n",
    "    target=rule[0]\n",
    "    main_index=new_productions.index(rule)\n",
    "    #print(\"mainindex\",main_index)\n",
    "    for j in range(len(new_productions)):\n",
    "        if(new_productions[j][0]==target and j!=main_index and j>main_index):\n",
    "            temp=list(set(new_productions[j]).union(set(new_productions[main_index])))\n",
    "            temp.insert(0,target)\n",
    "            new_productions[j]=temp\n",
    "            print(new_productions)\n",
    "            new_productions.pop(main_index)\n",
    "            "
   ]
  },
  {
   "cell_type": "code",
   "execution_count": 76,
   "metadata": {},
   "outputs": [
    {
     "data": {
      "text/plain": [
       "2"
      ]
     },
     "execution_count": 76,
     "metadata": {},
     "output_type": "execute_result"
    }
   ],
   "source": [
    "len(new_productions)"
   ]
  },
  {
   "cell_type": "code",
   "execution_count": 77,
   "metadata": {},
   "outputs": [
    {
     "data": {
      "text/plain": [
       "[['A', 'B', 'S', ''], ['S', 'S', 'ASA', 'aB', 'SA', 'a', 'AS']]"
      ]
     },
     "execution_count": 77,
     "metadata": {},
     "output_type": "execute_result"
    }
   ],
   "source": [
    "new_productions"
   ]
  },
  {
   "cell_type": "code",
   "execution_count": 78,
   "metadata": {},
   "outputs": [],
   "source": [
    "for rule in new_productions:\n",
    "    target=rule[0]\n",
    "    for i in range(len(productions)):\n",
    "        if target==productions[i][0]:\n",
    "            productions[i]=rule"
   ]
  },
  {
   "cell_type": "code",
   "execution_count": 79,
   "metadata": {},
   "outputs": [
    {
     "data": {
      "text/plain": [
       "[['S', 'S', 'ASA', 'aB', 'SA', 'a', 'AS'],\n",
       " ['A', 'B', 'S', ''],\n",
       " ['B', 'b', 'e'],\n",
       " [\"S'\", 'S']]"
      ]
     },
     "execution_count": 79,
     "metadata": {},
     "output_type": "execute_result"
    }
   ],
   "source": [
    "productions"
   ]
  },
  {
   "cell_type": "code",
   "execution_count": 80,
   "metadata": {},
   "outputs": [
    {
     "name": "stdout",
     "output_type": "stream",
     "text": [
      "same 1\n",
      "blank 3\n",
      "e 2\n"
     ]
    }
   ],
   "source": [
    "for rule in productions:\n",
    "    for j in range(1,len(rule)):\n",
    "        if(rule[j]=='e'):\n",
    "            print('e',j)\n",
    "        elif(rule[j]==''):\n",
    "            print('blank',j)\n",
    "        elif(rule[0]==rule[j]):\n",
    "            print('same',j)"
   ]
  },
  {
   "cell_type": "code",
   "execution_count": 81,
   "metadata": {},
   "outputs": [],
   "source": [
    "from itertools import islice\n",
    "\n",
    "def nth_index(iterable, value, n):\n",
    "    matches = (idx for idx, val in enumerate(iterable) if val == value)\n",
    "    return next(islice(matches, n-1, n), None)"
   ]
  },
  {
   "cell_type": "code",
   "execution_count": 84,
   "metadata": {},
   "outputs": [],
   "source": [
    "poppy=[]\n",
    "for rule in productions:\n",
    "    for j in range(1,len(rule)):\n",
    "        if(rule[j]=='e'):\n",
    "            rule.pop(rule.index('e'))\n",
    "            \n",
    "for rule in productions:\n",
    "    for j in range(1,len(rule)):\n",
    "        if(rule[j]==''):\n",
    "            rule.pop(rule.index(''))            \n",
    "\n",
    "for rule in productions:\n",
    "    for j in range(1,len(rule)):\n",
    "        if(rule[0]==rule[j]):\n",
    "            rule.pop(nth_index(rule,rule[0],2))\n",
    "\n"
   ]
  },
  {
   "cell_type": "code",
   "execution_count": 85,
   "metadata": {},
   "outputs": [
    {
     "data": {
      "text/plain": [
       "[['S', 'ASA', 'aB', 'SA', 'a', 'AS'], ['A', 'B', 'S'], ['B', 'b'], [\"S'\", 'S']]"
      ]
     },
     "execution_count": 85,
     "metadata": {},
     "output_type": "execute_result"
    }
   ],
   "source": [
    "productions"
   ]
  },
  {
   "cell_type": "code",
   "execution_count": 86,
   "metadata": {},
   "outputs": [
    {
     "data": {
      "text/plain": [
       "[['S', 'ASA', 'aB', 'SA', 'a', 'AS'], ['A', 'B', 'S'], ['B', 'b'], [\"S'\", 'S']]"
      ]
     },
     "execution_count": 86,
     "metadata": {},
     "output_type": "execute_result"
    }
   ],
   "source": [
    "productions"
   ]
  },
  {
   "cell_type": "code",
   "execution_count": 87,
   "metadata": {},
   "outputs": [],
   "source": [
    "unit_productions=[]"
   ]
  },
  {
   "cell_type": "code",
   "execution_count": 88,
   "metadata": {},
   "outputs": [],
   "source": [
    "for rule in productions:\n",
    "    for j in range(1,len(rule)):\n",
    "        if(len(rule[j])==1 and rule[j].isupper()):\n",
    "            unit_productions.append([rule[0],rule[j]])"
   ]
  },
  {
   "cell_type": "code",
   "execution_count": 89,
   "metadata": {},
   "outputs": [
    {
     "data": {
      "text/plain": [
       "[['A', 'B'], ['A', 'S'], [\"S'\", 'S']]"
      ]
     },
     "execution_count": 89,
     "metadata": {},
     "output_type": "execute_result"
    }
   ],
   "source": [
    "unit_productions"
   ]
  },
  {
   "cell_type": "code",
   "execution_count": 90,
   "metadata": {},
   "outputs": [
    {
     "data": {
      "text/plain": [
       "[['S', 'ASA', 'aB', 'SA', 'a', 'AS'], ['A', 'B', 'S'], ['B', 'b'], [\"S'\", 'S']]"
      ]
     },
     "execution_count": 90,
     "metadata": {},
     "output_type": "execute_result"
    }
   ],
   "source": [
    "productions"
   ]
  },
  {
   "cell_type": "code",
   "execution_count": null,
   "metadata": {},
   "outputs": [],
   "source": []
  },
  {
   "cell_type": "code",
   "execution_count": 91,
   "metadata": {},
   "outputs": [
    {
     "data": {
      "text/plain": [
       "[['A', 'B'], ['A', 'S'], [\"S'\", 'S']]"
      ]
     },
     "execution_count": 91,
     "metadata": {},
     "output_type": "execute_result"
    }
   ],
   "source": [
    "unit_productions"
   ]
  },
  {
   "cell_type": "code",
   "execution_count": 92,
   "metadata": {},
   "outputs": [
    {
     "name": "stdout",
     "output_type": "stream",
     "text": [
      "A ['b']\n",
      "A ['ASA', 'aB', 'SA', 'a', 'AS']\n",
      "S' ['ASA', 'aB', 'SA', 'a', 'AS']\n"
     ]
    }
   ],
   "source": [
    "for rule in unit_productions:\n",
    "    target=rule[-1]\n",
    "    for i in range(len(productions)):\n",
    "        if target==productions[i][0]:\n",
    "            print(rule[0],productions[i][1:])\n",
    "            for j in productions:\n",
    "                for k in range(len(j)):\n",
    "                    if j[k]==rule[0]:\n",
    "                        j.pop(j.index(target))\n",
    "                        j.extend(productions[i][1:])"
   ]
  },
  {
   "cell_type": "code",
   "execution_count": 93,
   "metadata": {},
   "outputs": [
    {
     "data": {
      "text/plain": [
       "[['S', 'ASA', 'aB', 'SA', 'a', 'AS'],\n",
       " ['A', 'b', 'ASA', 'aB', 'SA', 'a', 'AS'],\n",
       " ['B', 'b'],\n",
       " [\"S'\", 'ASA', 'aB', 'SA', 'a', 'AS']]"
      ]
     },
     "execution_count": 93,
     "metadata": {},
     "output_type": "execute_result"
    }
   ],
   "source": [
    "productions"
   ]
  },
  {
   "cell_type": "code",
   "execution_count": 94,
   "metadata": {},
   "outputs": [
    {
     "data": {
      "text/plain": [
       "1"
      ]
     },
     "execution_count": 94,
     "metadata": {},
     "output_type": "execute_result"
    }
   ],
   "source": [
    "sum(1 for c in \"aB\" if c.isupper())"
   ]
  },
  {
   "cell_type": "code",
   "execution_count": 95,
   "metadata": {},
   "outputs": [],
   "source": [
    "replacements=[]"
   ]
  },
  {
   "cell_type": "code",
   "execution_count": 96,
   "metadata": {},
   "outputs": [],
   "source": [
    "for rule in productions:\n",
    "    for variable in rule:\n",
    "        if sum(1 for c in variable if c.isupper()) >2 :\n",
    "            replacements.append(variable)"
   ]
  },
  {
   "cell_type": "code",
   "execution_count": 97,
   "metadata": {},
   "outputs": [
    {
     "data": {
      "text/plain": [
       "['ASA', 'ASA', 'ASA']"
      ]
     },
     "execution_count": 97,
     "metadata": {},
     "output_type": "execute_result"
    }
   ],
   "source": [
    "replacements"
   ]
  },
  {
   "cell_type": "code",
   "execution_count": 98,
   "metadata": {},
   "outputs": [],
   "source": [
    "replacements=list(set(replacements))"
   ]
  },
  {
   "cell_type": "code",
   "execution_count": 99,
   "metadata": {},
   "outputs": [],
   "source": [
    "job=\"ASA\""
   ]
  },
  {
   "cell_type": "code",
   "execution_count": 100,
   "metadata": {},
   "outputs": [],
   "source": [
    "temp=job[:2]"
   ]
  },
  {
   "cell_type": "code",
   "execution_count": 101,
   "metadata": {},
   "outputs": [
    {
     "data": {
      "text/plain": [
       "'AS'"
      ]
     },
     "execution_count": 101,
     "metadata": {},
     "output_type": "execute_result"
    }
   ],
   "source": [
    "temp"
   ]
  },
  {
   "cell_type": "code",
   "execution_count": 102,
   "metadata": {},
   "outputs": [],
   "source": [
    "for rule in productions:\n",
    "    for variable in rule:\n",
    "        if sum(1 for c in variable if c.isupper()) >2 :\n",
    "            rule[rule.index(variable)]=variable.replace(temp,\"X\")"
   ]
  },
  {
   "cell_type": "code",
   "execution_count": 103,
   "metadata": {},
   "outputs": [],
   "source": [
    "productions.append([\"X\",\"AS\"])"
   ]
  },
  {
   "cell_type": "code",
   "execution_count": 104,
   "metadata": {},
   "outputs": [
    {
     "data": {
      "text/plain": [
       "[['S', 'XA', 'aB', 'SA', 'a', 'AS'],\n",
       " ['A', 'b', 'XA', 'aB', 'SA', 'a', 'AS'],\n",
       " ['B', 'b'],\n",
       " [\"S'\", 'XA', 'aB', 'SA', 'a', 'AS'],\n",
       " ['X', 'AS']]"
      ]
     },
     "execution_count": 104,
     "metadata": {},
     "output_type": "execute_result"
    }
   ],
   "source": [
    "productions"
   ]
  },
  {
   "cell_type": "code",
   "execution_count": 107,
   "metadata": {},
   "outputs": [],
   "source": [
    "with open('cnf.txt','w') as cnf:\n",
    "    for rule in productions:\n",
    "        for j in range(1,len(rule)):\n",
    "            cnf.writelines(rule[0]+\":\"+rule[j]+'\\n')"
   ]
  },
  {
   "cell_type": "code",
   "execution_count": null,
   "metadata": {},
   "outputs": [],
   "source": []
  }
 ],
 "metadata": {
  "kernelspec": {
   "display_name": "Python 3",
   "language": "python",
   "name": "python3"
  },
  "language_info": {
   "codemirror_mode": {
    "name": "ipython",
    "version": 3
   },
   "file_extension": ".py",
   "mimetype": "text/x-python",
   "name": "python",
   "nbconvert_exporter": "python",
   "pygments_lexer": "ipython3",
   "version": "3.6.4"
  }
 },
 "nbformat": 4,
 "nbformat_minor": 2
}
